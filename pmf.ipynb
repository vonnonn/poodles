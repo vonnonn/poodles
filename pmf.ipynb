{
 "cells": [
  {
   "cell_type": "code",
   "execution_count": 1,
   "metadata": {},
   "outputs": [],
   "source": [
    "import pdal "
   ]
  },
  {
   "cell_type": "code",
   "execution_count": 3,
   "metadata": {},
   "outputs": [
    {
     "data": {
      "text/plain": [
       "108433"
      ]
     },
     "execution_count": 3,
     "metadata": {},
     "output_type": "execute_result"
    }
   ],
   "source": [
    "#classifying ground points with PMF\n",
    "inputfile = r\"G:\\2021_UAS_FIRES\\GLA3_4\\WebODM_products\\GLA3_2021_high_pcf0gsd1pt1cm_clipped2.las\"\n",
    "outputfile = inputfile.replace('.las','_DTM.las')\n",
    "\n",
    "p = (pdal.Reader.las(inputfile).pipeline() |\n",
    "     pdal.Filter.sample(radius=0.25).pipeline() |\n",
    "     pdal.Filter.pmf(max_window_size=13,slope=0.35).pipeline() | #test9 mws=13, slope=0.35 -optomized for GLA3\n",
    "     pdal.Filter.range(limits=\"Classification[2:2]\").pipeline() |\n",
    "     pdal.Writer.las(filename=outputfile).pipeline()  \n",
    "    )\n",
    "p.execute()"
   ]
  },
  {
   "cell_type": "code",
   "execution_count": 9,
   "metadata": {},
   "outputs": [
    {
     "data": {
      "text/plain": [
       "41473360"
      ]
     },
     "execution_count": 9,
     "metadata": {},
     "output_type": "execute_result"
    }
   ],
   "source": [
    "#classifying ground points with PMF and overwriting Z with HAG\n",
    "inputfile = r\"G:\\2021_UAS_FIRES\\GLA3_4\\WebODM_products\\save\\GLA3_2021_high_pcf0gsd1pt1cm_clpd_to_tif_extent_otlrs_removed_by_hand.las\"\n",
    "outputfile = r\"G:\\2021_UAS_FIRES\\GLA3_4\\WebODM_products\\save\\GLA3_2021_9292022_hag.las\"\n",
    "\n",
    "p = (pdal.Reader.las(inputfile).pipeline() |\n",
    "     pdal.Filter.sample(radius=0.015).pipeline() |\n",
    "     pdal.Filter.pmf(max_window_size=13,slope=0.35).pipeline() | #test9 mws=13, slope=0.35- optomized for GLA3\n",
    "     pdal.Filter.hag_nn().pipeline() | #hag_nn works but _delaunay raises \"all points collinear\"\n",
    "     pdal.Filter.ferry(dimensions=\"HeightAboveGround=Z\").pipeline() |\n",
    "     pdal.Writer.las(filename=outputfile).pipeline()  \n",
    "    )\n",
    "p.execute()\n",
    "\n",
    "#13mins with radius=0.02\n"
   ]
  },
  {
   "cell_type": "code",
   "execution_count": null,
   "metadata": {},
   "outputs": [],
   "source": [
    "inputfile = r\"E:\\USGS\\Sonoma_fires\\GLA3\\las_files\\GLA3_4_UTM_hag_2cm_as_Z.las\"\n",
    "outputfile = r\"E:\\USGS\\Sonoma_fires\\GLA3\\las_files\\GLA3_2021_UTM_DTM_2cm.tif\""
   ]
  },
  {
   "cell_type": "code",
   "execution_count": null,
   "metadata": {},
   "outputs": [],
   "source": [
    "#D\n",
    "inputfile = r\"E:\\USGS\\Sonoma_fires\\GLA3\\las_files\\GLA3_4_UTM_DTM_full.las\"\n",
    "outputfile = r\"E:\\USGS\\Sonoma_fires\\GLA3\\las_files\\GLA3_2021_UTM_DTM.tif\""
   ]
  },
  {
   "cell_type": "code",
   "execution_count": null,
   "metadata": {},
   "outputs": [],
   "source": [
    "\n",
    "#0.5 meter DTM raster\n",
    "#need to interpolate missing data?\n",
    "\n",
    "pdal.Writer.gdal(resolution=.02,filename=outputfile).pipeline()\n",
    "\n",
    "p.execute()"
   ]
  },
  {
   "cell_type": "code",
   "execution_count": null,
   "metadata": {},
   "outputs": [],
   "source": [
    "fp_uas = r\"E:\\USGS\\Sonoma_fires\\GLA3\\las_files\\GLA3_4_UTM.las\"\n",
    "fp_dtm = r\"E:\\USGS\\Sonoma_fires\\GLA3\\las_files\\GLA3_2021_UTM_DTM.tif\"\n",
    "outputfile = fp_uas.replace('.las','_hagz.tif')"
   ]
  },
  {
   "cell_type": "code",
   "execution_count": null,
   "metadata": {},
   "outputs": [],
   "source": [
    "#hag_dem\n",
    "p = (pdal.Reader.las(fp_uas).pipeline() |\n",
    "     pdal.Filter.hag_dem(raster=fp_dtm).pipeline() |\n",
    "     pdal.Filter.ferry(dimensions=\"HeightAboveGround=>Z\").pipeline() |\n",
    "     pdal.Writer.gdal(resolution=0.02,radius=0.04,filename=outputfile).pipeline()\n",
    "    )\n",
    "p.execute()\n",
    "     "
   ]
  },
  {
   "cell_type": "code",
   "execution_count": null,
   "metadata": {},
   "outputs": [],
   "source": []
  },
  {
   "cell_type": "code",
   "execution_count": null,
   "metadata": {},
   "outputs": [],
   "source": [
    "fp_uas = r\"E:\\USGS\\Sonoma_fires\\GLA3\\las_files\\GLA3_4_UTM_hag_2cm.las\""
   ]
  },
  {
   "cell_type": "code",
   "execution_count": null,
   "metadata": {},
   "outputs": [],
   "source": [
    "p = pdal.Reader.las(fp_uas).pipeline()\n",
    "p.execute()"
   ]
  },
  {
   "cell_type": "code",
   "execution_count": null,
   "metadata": {},
   "outputs": [],
   "source": [
    "p.schema"
   ]
  },
  {
   "cell_type": "code",
   "execution_count": null,
   "metadata": {},
   "outputs": [],
   "source": [
    "p.extra_dims"
   ]
  },
  {
   "cell_type": "code",
   "execution_count": 5,
   "metadata": {},
   "outputs": [
    {
     "data": {
      "text/plain": [
       "47211248"
      ]
     },
     "execution_count": 5,
     "metadata": {},
     "output_type": "execute_result"
    }
   ],
   "source": [
    "#outlier filter\n",
    "\n",
    "fp = r\"G:\\2021_UAS_FIRES\\GLA3_4\\WebODM_products\\GLA3_2021_high_pcf0gsd1pt1cm_clipped2_hag_1pt5cm_as_Z.las\"\n",
    "out = fp.replace('.las','otlr.las')\n",
    "\n",
    "p = pdal.Reader.las(fp).pipeline() | pdal.Filter.outlier(mean_k=17,multiplier=0.35) | pdal.Writer.las(out).pipeline()\n",
    "p.execute()\n"
   ]
  },
  {
   "cell_type": "code",
   "execution_count": 11,
   "metadata": {},
   "outputs": [
    {
     "data": {
      "text/plain": [
       "41460887"
      ]
     },
     "execution_count": 11,
     "metadata": {},
     "output_type": "execute_result"
    }
   ],
   "source": [
    "#write out HAG raster\n",
    "fp = r\"G:\\2021_UAS_FIRES\\GLA3_4\\WebODM_products\\save\\GLA3_2021_9292022_hag_removed_outliers.las\"\n",
    "out = fp.replace('.las','.tif')\n",
    "p = pdal.Reader.las(fp).pipeline() | pdal.Writer.gdal(resolution=0.015, radius=0.04,output_type='max',filename=out).pipeline()\n",
    "p.execute()"
   ]
  },
  {
   "cell_type": "code",
   "execution_count": null,
   "metadata": {},
   "outputs": [],
   "source": []
  }
 ],
 "metadata": {
  "kernelspec": {
   "display_name": "Python 3.9.9 ('py39')",
   "language": "python",
   "name": "python3"
  },
  "language_info": {
   "codemirror_mode": {
    "name": "ipython",
    "version": 3
   },
   "file_extension": ".py",
   "mimetype": "text/x-python",
   "name": "python",
   "nbconvert_exporter": "python",
   "pygments_lexer": "ipython3",
   "version": "3.9.9"
  },
  "orig_nbformat": 4,
  "vscode": {
   "interpreter": {
    "hash": "2af442ffedf2c59bb363b642f67e1566fff8c791fb96d248ee72510a00d24cb6"
   }
  }
 },
 "nbformat": 4,
 "nbformat_minor": 2
}
