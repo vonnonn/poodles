{
 "cells": [
  {
   "cell_type": "code",
   "execution_count": 3,
   "metadata": {},
   "outputs": [],
   "source": [
    "import pdal\n",
    "import rasterio as rio"
   ]
  },
  {
   "cell_type": "code",
   "execution_count": 15,
   "metadata": {},
   "outputs": [],
   "source": [
    "#file path to clipped extent\n",
    "fp_sent2_20 = r\"G:\\2021_UAS_FIRES\\GLA3_4\\WebODM_products\\GLA3_2021_9292022_1117.tif\"\n",
    "#file path to las file to be clipped\n",
    "fp_las = r\"G:\\2021_UAS_FIRES\\GLA3_4\\WebODM_products\\GLA3_2021_high_pcf0gsd1pt1cm.laz\"\n",
    "\n",
    "outputfile = fp_las.replace(\".laz\",\"_clpd_to_tif_extent.las\")"
   ]
  },
  {
   "cell_type": "code",
   "execution_count": 16,
   "metadata": {},
   "outputs": [],
   "source": [
    "#Extracting bounding box and crs from sent2 20m image\n",
    "with rio.open(fp_sent2_20) as src:\n",
    "    bb = src.bounds\n",
    "    crs = f'{src.crs}'"
   ]
  },
  {
   "cell_type": "code",
   "execution_count": 18,
   "metadata": {},
   "outputs": [],
   "source": [
    "#this works 9/20\n",
    "bbox = f'([{bb[0]},{bb[2]}],[{bb[1]},{bb[3]}])' #EPSG:32610"
   ]
  },
  {
   "cell_type": "code",
   "execution_count": 19,
   "metadata": {},
   "outputs": [
    {
     "data": {
      "text/plain": [
       "48240634"
      ]
     },
     "execution_count": 19,
     "metadata": {},
     "output_type": "execute_result"
    }
   ],
   "source": [
    "p = (pdal.Reader.las(fp_las).pipeline() |\n",
    "     pdal.Filter.crop(bounds=bbox, a_srs=crs).pipeline() |\n",
    "     pdal.Writer.las(filename=outputfile).pipeline()\n",
    "    )\n",
    "p.execute()"
   ]
  },
  {
   "cell_type": "code",
   "execution_count": null,
   "metadata": {},
   "outputs": [],
   "source": []
  }
 ],
 "metadata": {
  "kernelspec": {
   "display_name": "Python 3.9.9 ('py39')",
   "language": "python",
   "name": "python3"
  },
  "language_info": {
   "codemirror_mode": {
    "name": "ipython",
    "version": 3
   },
   "file_extension": ".py",
   "mimetype": "text/x-python",
   "name": "python",
   "nbconvert_exporter": "python",
   "pygments_lexer": "ipython3",
   "version": "3.9.9"
  },
  "orig_nbformat": 4,
  "vscode": {
   "interpreter": {
    "hash": "2af442ffedf2c59bb363b642f67e1566fff8c791fb96d248ee72510a00d24cb6"
   }
  }
 },
 "nbformat": 4,
 "nbformat_minor": 2
}
